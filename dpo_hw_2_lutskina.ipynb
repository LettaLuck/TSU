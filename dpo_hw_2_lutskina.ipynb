{
  "nbformat": 4,
  "nbformat_minor": 0,
  "metadata": {
    "colab": {
      "name": "dpo_hw_2.ipynb",
      "provenance": []
    },
    "kernelspec": {
      "name": "python3",
      "display_name": "Python 3"
    },
    "language_info": {
      "name": "python"
    }
  },
  "cells": [
    {
      "cell_type": "markdown",
      "source": [
        "**Задания предполагают использование только математических операторов**"
      ],
      "metadata": {
        "id": "IubWvMBchjP3"
      }
    },
    {
      "cell_type": "markdown",
      "source": [
        "Задание 1. Дано трехзначное число 249. Найдите сумму его цифр. "
      ],
      "metadata": {
        "id": "K8MEy0mEiBZc"
      }
    },
    {
      "cell_type": "code",
      "source": [
        "x = 249\n",
        "\n",
        "x1 = x % 10\n",
        "x2 = (x % 100) // 10\n",
        "x3 = x // 100\n",
        "result = x1 + x2 + x3\n",
        "\n",
        "print('Сумма цифр числа 249 равна -- ', result) "
      ],
      "metadata": {
        "id": "SPz8MwfliBGG"
      },
      "execution_count": null,
      "outputs": []
    },
    {
      "cell_type": "markdown",
      "source": [
        "Задание 2. Дано число N. С начала суток прошло N минут. Определите, сколько часов и минут будут показывать электронные часы в этот момент. Предполагается, что $N < 1440$."
      ],
      "metadata": {
        "id": "jz2W8zAfi-FJ"
      }
    },
    {
      "cell_type": "code",
      "execution_count": null,
      "metadata": {
        "id": "OPuC6ijJhQwt"
      },
      "outputs": [],
      "source": [
        "n = int(input())\n",
        "hours = n % (60 * 24) // 60\n",
        "minutes = n % 60\n",
        "print(hours, ':', minutes)\n"
      ]
    },
    {
      "cell_type": "markdown",
      "source": [
        "Задание 3. Дано вещественное число. Выведите его дробную часть."
      ],
      "metadata": {
        "id": "ELlTWPe2lVAe"
      }
    },
    {
      "cell_type": "code",
      "source": [
        "number = float(input())\n",
        "result = number % 1\n",
        "print(result)"
      ],
      "metadata": {
        "id": "YjVqQdHhkxhN"
      },
      "execution_count": null,
      "outputs": []
    },
    {
      "cell_type": "markdown",
      "source": [
        "Задание 4. Дано число $N$, соответствующее росту человека в футах. Рассчитайте и выведите рост этого человека в дюймах и сантиметрах.\n",
        "\n",
        "Напомним, что а один фут равен 12 дюймам, а один дюйм – 2.54 см."
      ],
      "metadata": {
        "id": "R910AyZxm3rr"
      }
    },
    {
      "cell_type": "code",
      "source": [
        "height_foot = int(input())\n",
        "height_inch = height_foot * 12\n",
        "height_sm = height_inch * 2.54\n",
        "result = str(height_inch) + ' дюймов, ' + str(height_sm) + ' сантиметров.'\n",
        "print(result)"
      ],
      "metadata": {
        "id": "ygdhutzNlYz2"
      },
      "execution_count": null,
      "outputs": []
    },
    {
      "cell_type": "markdown",
      "source": [
        "Задание 5. Известны координаты двух точек $A(x_1, y_1)$ и $B(x_2, y_2)$ на плоскости. Рассчитайте и выведите расстояние между ними."
      ],
      "metadata": {
        "id": "fkIPB4yOoWsR"
      }
    },
    {
      "cell_type": "code",
      "source": [
        "x1 = 10\n",
        "y1 = 0.7\n",
        "\n",
        "x2 = 100\n",
        "y2 = 0.1\n",
        "\n",
        "result = (((x2 - x1) ** 2) + ((y2-y1) ** 2)) ** (1 / 2)\n",
        "print(result) \n"
      ],
      "metadata": {
        "id": "GstytjGNok4O"
      },
      "execution_count": null,
      "outputs": []
    },
    {
      "cell_type": "markdown",
      "source": [
        "Задание 6. Вершины треугольника имеют следующие координаты $A(x1,y1)$, $B(x2,y2)$ и $С(x3,y3)$. Рассчитайте и выведите площадь этого треугольника."
      ],
      "metadata": {
        "id": "QunH0WI-pdD6"
      }
    },
    {
      "cell_type": "code",
      "source": [
        "x1 = 0\n",
        "y1 = 0\n",
        "\n",
        "x2 = 4\n",
        "y2 = 0\n",
        "\n",
        "x3 = 0\n",
        "y3 = 3\n",
        "\n",
        "cathet_ab = (((x2 - x1) ** 2) + ((y2-y1) ** 2)) ** (1 / 2)\n",
        "cathet_ac = (((x3 - x1) ** 2) + ((y3-y1) ** 2)) ** (1 / 2)\n",
        "area = (cathet_ab * cathet_ac) / 2\n",
        "print(area)\n"
      ],
      "metadata": {
        "id": "nn8qNNDSpEeg"
      },
      "execution_count": null,
      "outputs": []
    }
  ]
}